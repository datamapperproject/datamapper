{
 "cells": [
  {
   "cell_type": "markdown",
   "metadata": {},
   "source": [
    "# Excel to DAjson converter"
   ]
  },
  {
   "cell_type": "code",
   "execution_count": 1,
   "metadata": {},
   "outputs": [],
   "source": [
    "# Import libraries\n",
    "import pandas as pd\n",
    "import numpy as np\n",
    "import json\n"
   ]
  },
  {
   "cell_type": "markdown",
   "metadata": {},
   "source": [
    "### Exploring current JSON format"
   ]
  },
  {
   "cell_type": "code",
   "execution_count": 8,
   "metadata": {},
   "outputs": [],
   "source": [
    "with open('dr2/data/content.json', 'r') as json_file:\n",
    "    data = json.load(json_file)"
   ]
  },
  {
   "cell_type": "code",
   "execution_count": 9,
   "metadata": {},
   "outputs": [
    {
     "data": {
      "text/plain": [
       "{'proms': [{'name': 'sense',\n",
       "   'type': 'verb',\n",
       "   'column': 0,\n",
       "   'action': 0,\n",
       "   'active': True,\n",
       "   'links': ['sence1.jpg', 'link B', 'story A', 'case A']},\n",
       "  {'name': 'lifeworlds',\n",
       "   'type': 'subject',\n",
       "   'column': 1,\n",
       "   'action': 0,\n",
       "   'active': False,\n",
       "   'links': ['case A', 'sence2.jpg']},\n",
       "  {'name': 'to describe',\n",
       "   'type': 'verb2',\n",
       "   'column': 2,\n",
       "   'action': 0,\n",
       "   'active': False,\n",
       "   'links': ['link B']},\n",
       "  {'name': 'needs & aspirations',\n",
       "   'type': 'object',\n",
       "   'column': 3,\n",
       "   'action': 0,\n",
       "   'active': False,\n",
       "   'links': ['case A', 'Tool A']},\n",
       "  {'name': 'formulate',\n",
       "   'type': 'verb',\n",
       "   'column': 0,\n",
       "   'action': 1,\n",
       "   'active': True,\n",
       "   'links': ['case C']},\n",
       "  {'name': 'concepts',\n",
       "   'type': 'subject',\n",
       "   'column': 1,\n",
       "   'action': 1,\n",
       "   'active': False,\n",
       "   'links': ['link C']},\n",
       "  {'name': 'to frame',\n",
       "   'type': 'verb2',\n",
       "   'column': 2,\n",
       "   'action': 1,\n",
       "   'active': False,\n",
       "   'links': ['link D']},\n",
       "  {'name': 'problems',\n",
       "   'type': 'object',\n",
       "   'column': 3,\n",
       "   'action': 1,\n",
       "   'active': False,\n",
       "   'links': ['story D', 'Tool A']},\n",
       "  {'name': 'gather',\n",
       "   'type': 'verb',\n",
       "   'column': 0,\n",
       "   'action': 2,\n",
       "   'active': True,\n",
       "   'links': ['gather.jpg', 'urscape']},\n",
       "  {'name': 'data',\n",
       "   'type': 'subject',\n",
       "   'column': 1,\n",
       "   'action': 2,\n",
       "   'active': False,\n",
       "   'links': ['urscape.jpg', 'imagine.jpg']},\n",
       "  {'name': 'to analyse',\n",
       "   'type': 'verb2',\n",
       "   'column': 2,\n",
       "   'action': 2,\n",
       "   'active': False,\n",
       "   'links': ['link F', 'story B']},\n",
       "  {'name': 'limits',\n",
       "   'type': 'object',\n",
       "   'column': 3,\n",
       "   'action': 2,\n",
       "   'active': False,\n",
       "   'links': ['story B', 'data.jpg']},\n",
       "  {'name': 'imagine',\n",
       "   'type': 'verb',\n",
       "   'column': 0,\n",
       "   'action': 3,\n",
       "   'active': True,\n",
       "   'links': ['imagine2.jpg', 'link G']},\n",
       "  {'name': 'potentials',\n",
       "   'type': 'subject',\n",
       "   'column': 1,\n",
       "   'action': 3,\n",
       "   'active': False,\n",
       "   'links': ['link G']},\n",
       "  {'name': 'to create',\n",
       "   'type': 'verb2',\n",
       "   'column': 2,\n",
       "   'action': 3,\n",
       "   'active': False,\n",
       "   'links': ['link B', 'story C']},\n",
       "  {'name': 'ideas',\n",
       "   'type': 'object',\n",
       "   'column': 3,\n",
       "   'action': 3,\n",
       "   'active': False,\n",
       "   'links': ['story C', 'link A']},\n",
       "  {'name': 'craft',\n",
       "   'type': 'verb',\n",
       "   'column': 0,\n",
       "   'action': 4,\n",
       "   'active': True,\n",
       "   'links': ['capacity.jpg', 'craft.jpg']},\n",
       "  {'name': 'cases',\n",
       "   'type': 'subject',\n",
       "   'column': 1,\n",
       "   'action': 4,\n",
       "   'active': False,\n",
       "   'links': ['link H']},\n",
       "  {'name': 'to evaluate',\n",
       "   'type': 'verb2',\n",
       "   'column': 2,\n",
       "   'action': 4,\n",
       "   'active': False,\n",
       "   'links': ['link D', 'story D']},\n",
       "  {'name': 'solutions',\n",
       "   'type': 'object',\n",
       "   'column': 3,\n",
       "   'action': 4,\n",
       "   'active': False,\n",
       "   'links': ['story A', 'case A', 'Tool A']},\n",
       "  {'name': 'empower',\n",
       "   'type': 'verb',\n",
       "   'column': 0,\n",
       "   'action': 5,\n",
       "   'active': True,\n",
       "   'links': ['enpower.jpg', 'enpower2.jpg', 'epower1.jpg']},\n",
       "  {'name': 'participants',\n",
       "   'type': 'subject',\n",
       "   'column': 1,\n",
       "   'action': 5,\n",
       "   'active': False,\n",
       "   'links': ['participants.jpg']},\n",
       "  {'name': 'to negotiate',\n",
       "   'type': 'verb2',\n",
       "   'column': 2,\n",
       "   'action': 5,\n",
       "   'active': False,\n",
       "   'links': ['negotatiate.jpg', 'participants.jpg']},\n",
       "  {'name': 'projects',\n",
       "   'type': 'object',\n",
       "   'column': 3,\n",
       "   'action': 5,\n",
       "   'active': False,\n",
       "   'links': ['story C', 'story D']}],\n",
       " 'description': [{'name': 'sense,lifeworlds,to describe,needs & aspirations',\n",
       "   'desc': \"<b>Sense life worlds to describe needs & aspirations </b> <br> Using senses as a tool for understanding cities involves immersing ourselves in their sensory experiences. By engaging with the sights, sounds, and even the tactile sensations of urban environments, we can discern their unique rhythms, cultures, and dynamics.<br> <img src='data/img1.jpg' width='100%' height='auto'> </img> <br>This sensory-driven approach deepens our connection to cities, unveiling layers of meaning that go beyond conventional analyses. <br> Lifeworld refers to the subjective and experiential reality of individuals within their immediate living environment. In the context of livable spaces, lifeworld encompasses the personal perceptions, emotions, and interactions that individuals have with their surroundings. It includes how people interpret and make sense of their environment, the routines and rituals they engage in, and the emotional connections they develop with the spaces they inhabit. Understanding lifeworld is crucial for creating truly livable spaces that cater to the holistic needs and well-being of the people who inhabit them. <br> To describe n refers to the process of articulating and detailing the various sensory, experiential, and perceptual aspects of the environment. This involves using language to convey the visual, auditory, tactile, and even emotional qualities of a place, capturing its unique character, ambiance, and the feelings it evokes. describing livable spaces enables individuals to share their perspectives, insights, and personal connections, contributing to a richer and more comprehensive understanding of the environment's impact on human experience. needs & aspirations is important because it helps us to understand the needs and aspirations of people who inhabit the spaces we design. This allows us to create environments that not only fulfill basic needs but also foster a sense of fulfillment, belonging, and personal development.\"},\n",
       "  {'name': 'formulate,concepts,to frame,problems',\n",
       "   'desc': '<b> Formulate concepts to frame problems </b> <br> <br> <b> Formulate </b> <br> Formulation is a way to understand <br> <br> <b> Concepts </b> <br> Concepts are the things we think <br> <br> <b> To frame </b> <br> Framing helps us to formulate'},\n",
       "  {'name': 'gather,data,to analyse,limits',\n",
       "   'desc': '<b> Gather data to analyse limits </b> <br> <br> <b> Gather </b> <br> Gathering put things together <br> <br> <b> Data </b> <br> Data is the things we know <br> <br> <b> To analyse </b> <br> Analysis gives us insights'},\n",
       "  {'name': 'imagine,potentials,to create,ideas',\n",
       "   'desc': '<b> Imagine data to frame needs & aspirations </b> <br> <br> <b> Imagine </b> <br> Imagination gives us ideas <br> <br> <b> Data </b> <br> Data is the things we know <br> <br> <b> To frame </b> <br> Framing helps us to formulate'},\n",
       "  {'name': 'craft,cases,to evaluate,solutions',\n",
       "   'desc': '<b> Craft cases to create limits </b> <br> <br> <b> Craft </b> <br> Craft helps us to elevate our ideas <br> <br> <b> Cases </b> <br> Cases are the things we can do <br> <br> <b> To create </b> <br> Creation is process of making things'},\n",
       "  {'name': 'empower,participants,to negotiate,projects',\n",
       "   'desc': '<b> Empower participants to negotiate projects </b> <br> <br> <b> Empower </b> <br> Empowerment pushes others to do things <br> <br> <b> Participants </b> <br> Participants are the things we can do <br> <br> <b> To negotiate </b> <br> Negotiation is a way to find compromises'},\n",
       "  {'name': 'sense,concept,to analyse,ideas',\n",
       "   'desc': \"<b> Sense concepts to analyse ideas </b> <br> <br> <b> We want to sense possible concepts because it helps us to analyse ideas </b> <br><img src='data/craft.jpg' width='100%' height='auto'> </img>  <br> <b> Sense </b> <br> Using senses as a tool for understanding cities involves immersing ourselves in their sensory experiences. By engaging with the sights, sounds, and even the tactile sensations of urban environments, we can discern their unique rhythms, cultures, and dynamics. This sensory-driven approach deepens our connection to cities, unveiling layers of meaning that go beyond conventional analyses. <br> <img src='data/img2.jpg' width='100%' height='auto'> </img> <br> <b> Concepts </b> <br> Concepts are the things we think <br> <br> <b> To analyse </b> <br> Analysis gives us insights\"},\n",
       "  {'name': 'formulate,data,to create,solutions',\n",
       "   'desc': '<b> Formulate data to create solutions <br> <br> <b> descrption</b> '},\n",
       "  {'name': 'gather,potentials,to evaluate,project',\n",
       "   'desc': '<b> Gather potentials to evaluate project <br> <br> <b> descrption</b> '},\n",
       "  {'name': 'imagine,data,to frame,needs & aspirations',\n",
       "   'desc': '<b> Imagine data to frame needs & aspirations</b> <br> <br> <b> descrption</b> '},\n",
       "  {'name': 'craft,potentials,to analyse,problems',\n",
       "   'desc': '<b> Craft potentials to anaylse problems</b> <br> <br> <b> descrption</b> '},\n",
       "  {'name': 'empower,cases,to create,limits',\n",
       "   'desc': '<b>Empower cases to create limits</b> <br> <br> <b> descrption</b> '},\n",
       "  {'name': 'sense',\n",
       "   'desc': \"<b> Sence </b> <br> <br> Using senses as a tool for understanding cities involves immersing ourselves in their sensory experiences. By engaging with the sights, sounds, and even the tactile sensations of urban environments, we can discern their unique rhythms, cultures, and dynamics. This sensory-driven approach deepens our connection to cities, unveiling layers of meaning that go beyond conventional analyses. <img src='data/img1.jpg' width='100%' height='auto'> </img>\"},\n",
       "  {'name': 'lifeworlds',\n",
       "   'desc': '<b> Lifeworlds </b> <br> <br> Lifeworld refers to the subjective and experiential reality of individuals within their immediate living environment. In the context of livable spaces, lifeworld encompasses the personal perceptions, emotions, and interactions that individuals have with their surroundings. It includes how people interpret and make sense of their environment, the routines and rituals they engage in, and the emotional connections they develop with the spaces they inhabit. Understanding lifeworld is crucial for creating truly livable spaces that cater to the holistic needs and well-being of the people who inhabit them.'},\n",
       "  {'name': 'to describe',\n",
       "   'desc': \"<b> To describe </b> <br> <br> To describe refers to the process of articulating and detailing the various sensory, experiential, and perceptual aspects of the environment. This involves using language to convey the visual, auditory, tactile, and even emotional qualities of a place, capturing its unique character, ambiance, and the feelings it evokes. Describing livable spaces enables individuals to share their perspectives, insights, and personal connections, contributing to a richer and more comprehensive understanding of the environment's impact on human experience.\"},\n",
       "  {'name': 'needs & aspirations',\n",
       "   'desc': '<b> Needs & aspirations </b> <br> <br> Needs and aspirations refer to the essential requirements and desires that individuals have in relation to their lives and living environments.Needs: These are the fundamental necessities that individuals require for their well-being and survival. These can include things like shelter, clean water, food, safety, and access to basic services. In the context of livable spaces, understanding the needs of people helps in designing environments that meet their fundamental requirements, ensuring comfort and security.Aspirations: Aspirations are the higher-level goals, hopes, and desires that individuals strive to achieve. These can include factors like personal growth, social connections'},\n",
       "  {'name': 'formulate',\n",
       "   'desc': \"<b> Formulate </b> <br> <br> Lifeworld refers to the subjective and experiential reality of individuals within their immediate living environment. In the context of livable spaces, lifeworld encompasses the personal perceptions, emotions, and interactions that individuals have with their surroundings. It includes how people interpret and make sense of their environment, the routines and rituals they engage in, and the emotional connections they develop with the spaces they inhabit. Understanding lifeworld is crucial for creating truly livable spaces that cater to the holistic needs and well-being of the people who inhabit them.<img src='data/img2 width='100%' height='auto'> </img>\"},\n",
       "  {'name': 'concepts',\n",
       "   'desc': '<b> Concepts </b> <br> <br> Concepts are the things we think'},\n",
       "  {'name': 'to frame',\n",
       "   'desc': '<b> To frame </b> <br> <br> Framing helps us to formulate'},\n",
       "  {'name': 'problems',\n",
       "   'desc': '<b> Problems </b> <br> <br> Problems are the things we can solve'},\n",
       "  {'name': 'gather',\n",
       "   'desc': \"<b> Gather </b> <br> <br> An action refers to the process of articulating and detailing the various sensory, experiential, and perceptual aspects of the environment. This involves using language to convey the visual, auditory, tactile, and even emotional qualities of a place, capturing its unique character, ambiance, and the feelings it evokes. Describing livable spaces enables individuals to share their perspectives, insights, and personal connections, contributing to a richer and more comprehensive understanding of the environment's impact on human experience.\"},\n",
       "  {'name': 'data',\n",
       "   'desc': '<b> Data </b> <br> <br> Data is the things we know'},\n",
       "  {'name': 'to analyse',\n",
       "   'desc': '<b> To analyse </b> <br> <br> Analysis gives us insights'},\n",
       "  {'name': 'limits',\n",
       "   'desc': \"<b> Limits </b> <br> <br> Limits are the things we can't do\"},\n",
       "  {'name': 'imagine',\n",
       "   'desc': \"<b> Imagine </b> <br> <br> Needs and aspirations refer to the essential requirements and desires that individuals have in relation to their lives and living environments.Needs: These are the fundamental necessities that individuals require for their well-being and survival. These can include things like shelter, clean water, food, safety, and access to basic services. In the context of livable spaces, understanding the needs of people helps in designing environments that meet their fundamental requirements, ensuring comfort and security.Aspirations: Aspirations are the higher-level goals, hopes, and desires that individuals strive to achieve. These can include factors like personal growth, social connections, a sense of purpose, and opportunities for advancement. In terms of livable spaces, acknowledging people's aspirations allows for the creation of environments that not only fulfill basic needs but also foster a sense of fulfillment, belonging, and personal development.When designing cities and spaces, considering both the needs and aspirations of the people who will inhabit them is essential for creating environments that promote well-being, satisfaction, and a high quality of life.\"},\n",
       "  {'name': 'potentials',\n",
       "   'desc': '<b> Potentials </b> <br> <br> Potentials are the'},\n",
       "  {'name': 'to create',\n",
       "   'desc': '<b> To create </b> <br> <br> Creation is process of making things'},\n",
       "  {'name': 'ideas',\n",
       "   'desc': '<b> Ideas </b> <br> <br> Ideas are the things we can do'},\n",
       "  {'name': 'craft',\n",
       "   'desc': '<b> Craft </b> <br> <br> A case refers to a specific instance or example of a concept. In the context of livable spaces, a case can be a specific place, project, or initiative that embodies the concept of livability. For example, a case could be a park that is designed to meet the needs and aspirations of the people who use it. It could also be a community project that aims to improve the quality of life in a particular neighborhood. Cases are important because they provide concrete examples of how the concept of livability can be applied in practice. They can also serve as sources of inspiration and ideas for future projects.'},\n",
       "  {'name': 'cases',\n",
       "   'desc': '<b> Cases </b> <br> <br> Cases are the things we can do'},\n",
       "  {'name': 'to evaluate',\n",
       "   'desc': '<b> To evaluate </b> <br> <br> Evaluation is a way to understand'},\n",
       "  {'name': 'solutions',\n",
       "   'desc': '<b> Solutions </b> <br> <br> Solutions are the things we can do'},\n",
       "  {'name': 'empower',\n",
       "   'desc': '<b> Empower </b> <br> <br> Participants refer to the people who are involved in a project or initiative. In the context of livable spaces, participants can include designers, planners, architects, community members, and other stakeholders. Empowering participants is important because it allows them to take ownership of the project and contribute to its success. It also helps to build trust and foster collaboration between different stakeholders, leading to better outcomes for everyone involved.'},\n",
       "  {'name': 'participants',\n",
       "   'desc': '<b> Participants </b> <br> <br> Participants are the things we can do'},\n",
       "  {'name': 'to negotiate',\n",
       "   'desc': '<b> To negotiate </b> <br> <br> Negotiation is a way to find compromises'},\n",
       "  {'name': 'projects',\n",
       "   'desc': '<b> Projects </b> <br> <br> Projects are the things we can do'},\n",
       "  {'name': 'urscape.jpg',\n",
       "   'desc': \"<a href='https://ur-scape.sec.sg/en/home' target='_blank'> ur-scape </a>is a tool for creating and sharing interactive maps. It allows users to create custom maps and populate them with points of interest, images, and text. These maps can then be shared with others, allowing for collaborative exploration and discussion. Urscape is a useful tool for creating interactive maps that can be used to explore and discuss the sensory and experiential aspects of urban environments. It can be used to create maps that highlight the unique character and ambiance of a place, as well as the personal connections and experiences that people have with it. These maps can then be used to facilitate discussions about the sensory and experiential aspects of urban environments, allowing for a deeper understanding of their impact on human experience.\"}]}"
      ]
     },
     "execution_count": 9,
     "metadata": {},
     "output_type": "execute_result"
    }
   ],
   "source": [
    "data"
   ]
  },
  {
   "cell_type": "code",
   "execution_count": 11,
   "metadata": {},
   "outputs": [],
   "source": [
    "# Create a dataframe from 'proms' in the json file\n",
    "proms = pd.DataFrame(data['proms'])"
   ]
  },
  {
   "cell_type": "code",
   "execution_count": 12,
   "metadata": {},
   "outputs": [],
   "source": [
    "# Create a dataframe from 'description' in the json file\n",
    "description = pd.DataFrame(data['description'])"
   ]
  },
  {
   "cell_type": "code",
   "execution_count": 13,
   "metadata": {},
   "outputs": [],
   "source": [
    "# Test making a dictionary from the two dataframes\n",
    "dict = {\n",
    "    'proms': proms.to_dict(orient='records'),\n",
    "    'description': description.to_dict(orient='records')\n",
    "}"
   ]
  },
  {
   "cell_type": "code",
   "execution_count": 14,
   "metadata": {},
   "outputs": [],
   "source": [
    "# Turning dictionary into a JSON string\n",
    "json_string = json.dumps(dict, indent=4)"
   ]
  },
  {
   "cell_type": "code",
   "execution_count": 20,
   "metadata": {},
   "outputs": [],
   "source": [
    "# Rename existing 'dr2/data/content.json' file to 'dr2/data/content.json.bak'\n",
    "import os\n",
    "os.rename('dr2/data/content.json', 'dr2/data/content_bak.json')\n",
    "\n",
    "# Save json_string to a JSON file\n",
    "with open('dr2/data/content.json', 'w') as json_file:\n",
    "    json_file.write(json_string)"
   ]
  },
  {
   "cell_type": "code",
   "execution_count": 16,
   "metadata": {},
   "outputs": [
    {
     "data": {
      "text/plain": [
       "False"
      ]
     },
     "execution_count": 16,
     "metadata": {},
     "output_type": "execute_result"
    }
   ],
   "source": [
    "json_string == data"
   ]
  },
  {
   "cell_type": "code",
   "execution_count": 22,
   "metadata": {},
   "outputs": [
    {
     "data": {
      "text/plain": [
       "True"
      ]
     },
     "execution_count": 22,
     "metadata": {},
     "output_type": "execute_result"
    }
   ],
   "source": [
    "# Open new JSON as a Python JSON object\n",
    "with open('dr2/data/content.json', 'r') as json_file:\n",
    "    data = json.load(json_file)\n",
    "\n",
    "# Open backup JSON as a Python JSON object\n",
    "with open('dr2/data/content_bak.json', 'r') as json_file:\n",
    "    data_bak = json.load(json_file)\n",
    "\n",
    "# Compare the two JSON objects\n",
    "data == data_bak"
   ]
  },
  {
   "cell_type": "markdown",
   "metadata": {},
   "source": [
    "### Creating Excel template"
   ]
  },
  {
   "cell_type": "markdown",
   "metadata": {},
   "source": []
  },
  {
   "cell_type": "code",
   "execution_count": 26,
   "metadata": {},
   "outputs": [
    {
     "name": "stdout",
     "output_type": "stream",
     "text": [
      "Done\n"
     ]
    }
   ],
   "source": [
    "# Create Pandas Excel writer using ExcelWriter\n",
    "writer = pd.ExcelWriter('dr2/data/content_script/content.xlsx', engine='xlsxwriter')\n",
    "\n",
    "# Write each dataframe to a different worksheet\n",
    "proms.to_excel(writer, sheet_name='proms')\n",
    "description.to_excel(writer, sheet_name='description')\n",
    "\n",
    "print('Done')"
   ]
  },
  {
   "cell_type": "code",
   "execution_count": 28,
   "metadata": {},
   "outputs": [
    {
     "name": "stdout",
     "output_type": "stream",
     "text": [
      "Done\n"
     ]
    }
   ],
   "source": [
    "# Create Pandas Excel writer using ExcelWriter\n",
    "try:\n",
    "    with pd.ExcelWriter('dr2/data/content_script/content.xlsx', engine='xlsxwriter') as writer:\n",
    "        proms.to_excel(writer, sheet_name='proms')\n",
    "        description.to_excel(writer, sheet_name='description')\n",
    "    print('Done')\n",
    "\n",
    "except Exception as e:\n",
    "    print(e)"
   ]
  },
  {
   "cell_type": "markdown",
   "metadata": {},
   "source": [
    "### Convert Excel back to dataframes"
   ]
  },
  {
   "cell_type": "code",
   "execution_count": 2,
   "metadata": {},
   "outputs": [
    {
     "ename": "FileNotFoundError",
     "evalue": "[Errno 2] No such file or directory: 'dr2/data/content_script/content.xlsx'",
     "output_type": "error",
     "traceback": [
      "\u001b[0;31m---------------------------------------------------------------------------\u001b[0m",
      "\u001b[0;31mFileNotFoundError\u001b[0m                         Traceback (most recent call last)",
      "\u001b[1;32m/Users/jvargas/Documents/Data Science/DA XLSX project/ExploratoryNotebook.ipynb Cell 18\u001b[0m line \u001b[0;36m5\n\u001b[1;32m      <a href='vscode-notebook-cell:/Users/jvargas/Documents/Data%20Science/DA%20XLSX%20project/ExploratoryNotebook.ipynb#X23sZmlsZQ%3D%3D?line=1'>2</a>\u001b[0m excel_file \u001b[39m=\u001b[39m \u001b[39m'\u001b[39m\u001b[39mdr2/data/content_script/content.xlsx\u001b[39m\u001b[39m'\u001b[39m\n\u001b[1;32m      <a href='vscode-notebook-cell:/Users/jvargas/Documents/Data%20Science/DA%20XLSX%20project/ExploratoryNotebook.ipynb#X23sZmlsZQ%3D%3D?line=3'>4</a>\u001b[0m \u001b[39m# Create a Pandas Excel reader\u001b[39;00m\n\u001b[0;32m----> <a href='vscode-notebook-cell:/Users/jvargas/Documents/Data%20Science/DA%20XLSX%20project/ExploratoryNotebook.ipynb#X23sZmlsZQ%3D%3D?line=4'>5</a>\u001b[0m xls \u001b[39m=\u001b[39m pd\u001b[39m.\u001b[39;49mExcelFile(excel_file)\n\u001b[1;32m      <a href='vscode-notebook-cell:/Users/jvargas/Documents/Data%20Science/DA%20XLSX%20project/ExploratoryNotebook.ipynb#X23sZmlsZQ%3D%3D?line=6'>7</a>\u001b[0m \u001b[39m# Read data from each sheet into separate DataFrames\u001b[39;00m\n\u001b[1;32m      <a href='vscode-notebook-cell:/Users/jvargas/Documents/Data%20Science/DA%20XLSX%20project/ExploratoryNotebook.ipynb#X23sZmlsZQ%3D%3D?line=7'>8</a>\u001b[0m proms \u001b[39m=\u001b[39m pd\u001b[39m.\u001b[39mread_excel(xls, \u001b[39m'\u001b[39m\u001b[39mproms\u001b[39m\u001b[39m'\u001b[39m)\n",
      "File \u001b[0;32m~/anaconda3/envs/geospatial/lib/python3.11/site-packages/pandas/io/excel/_base.py:1652\u001b[0m, in \u001b[0;36mExcelFile.__init__\u001b[0;34m(self, path_or_buffer, engine, storage_options)\u001b[0m\n\u001b[1;32m   1650\u001b[0m     ext \u001b[39m=\u001b[39m \u001b[39m\"\u001b[39m\u001b[39mxls\u001b[39m\u001b[39m\"\u001b[39m\n\u001b[1;32m   1651\u001b[0m \u001b[39melse\u001b[39;00m:\n\u001b[0;32m-> 1652\u001b[0m     ext \u001b[39m=\u001b[39m inspect_excel_format(\n\u001b[1;32m   1653\u001b[0m         content_or_path\u001b[39m=\u001b[39;49mpath_or_buffer, storage_options\u001b[39m=\u001b[39;49mstorage_options\n\u001b[1;32m   1654\u001b[0m     )\n\u001b[1;32m   1655\u001b[0m     \u001b[39mif\u001b[39;00m ext \u001b[39mis\u001b[39;00m \u001b[39mNone\u001b[39;00m:\n\u001b[1;32m   1656\u001b[0m         \u001b[39mraise\u001b[39;00m \u001b[39mValueError\u001b[39;00m(\n\u001b[1;32m   1657\u001b[0m             \u001b[39m\"\u001b[39m\u001b[39mExcel file format cannot be determined, you must specify \u001b[39m\u001b[39m\"\u001b[39m\n\u001b[1;32m   1658\u001b[0m             \u001b[39m\"\u001b[39m\u001b[39man engine manually.\u001b[39m\u001b[39m\"\u001b[39m\n\u001b[1;32m   1659\u001b[0m         )\n",
      "File \u001b[0;32m~/anaconda3/envs/geospatial/lib/python3.11/site-packages/pandas/io/excel/_base.py:1525\u001b[0m, in \u001b[0;36minspect_excel_format\u001b[0;34m(content_or_path, storage_options)\u001b[0m\n\u001b[1;32m   1522\u001b[0m \u001b[39mif\u001b[39;00m \u001b[39misinstance\u001b[39m(content_or_path, \u001b[39mbytes\u001b[39m):\n\u001b[1;32m   1523\u001b[0m     content_or_path \u001b[39m=\u001b[39m BytesIO(content_or_path)\n\u001b[0;32m-> 1525\u001b[0m \u001b[39mwith\u001b[39;00m get_handle(\n\u001b[1;32m   1526\u001b[0m     content_or_path, \u001b[39m\"\u001b[39;49m\u001b[39mrb\u001b[39;49m\u001b[39m\"\u001b[39;49m, storage_options\u001b[39m=\u001b[39;49mstorage_options, is_text\u001b[39m=\u001b[39;49m\u001b[39mFalse\u001b[39;49;00m\n\u001b[1;32m   1527\u001b[0m ) \u001b[39mas\u001b[39;00m handle:\n\u001b[1;32m   1528\u001b[0m     stream \u001b[39m=\u001b[39m handle\u001b[39m.\u001b[39mhandle\n\u001b[1;32m   1529\u001b[0m     stream\u001b[39m.\u001b[39mseek(\u001b[39m0\u001b[39m)\n",
      "File \u001b[0;32m~/anaconda3/envs/geospatial/lib/python3.11/site-packages/pandas/io/common.py:865\u001b[0m, in \u001b[0;36mget_handle\u001b[0;34m(path_or_buf, mode, encoding, compression, memory_map, is_text, errors, storage_options)\u001b[0m\n\u001b[1;32m    856\u001b[0m         handle \u001b[39m=\u001b[39m \u001b[39mopen\u001b[39m(\n\u001b[1;32m    857\u001b[0m             handle,\n\u001b[1;32m    858\u001b[0m             ioargs\u001b[39m.\u001b[39mmode,\n\u001b[0;32m   (...)\u001b[0m\n\u001b[1;32m    861\u001b[0m             newline\u001b[39m=\u001b[39m\u001b[39m\"\u001b[39m\u001b[39m\"\u001b[39m,\n\u001b[1;32m    862\u001b[0m         )\n\u001b[1;32m    863\u001b[0m     \u001b[39melse\u001b[39;00m:\n\u001b[1;32m    864\u001b[0m         \u001b[39m# Binary mode\u001b[39;00m\n\u001b[0;32m--> 865\u001b[0m         handle \u001b[39m=\u001b[39m \u001b[39mopen\u001b[39;49m(handle, ioargs\u001b[39m.\u001b[39;49mmode)\n\u001b[1;32m    866\u001b[0m     handles\u001b[39m.\u001b[39mappend(handle)\n\u001b[1;32m    868\u001b[0m \u001b[39m# Convert BytesIO or file objects passed with an encoding\u001b[39;00m\n",
      "\u001b[0;31mFileNotFoundError\u001b[0m: [Errno 2] No such file or directory: 'dr2/data/content_script/content.xlsx'"
     ]
    }
   ],
   "source": [
    "# Specify the path to the Excel file\n",
    "excel_file = 'dr2/data/content_script/content.xlsx'\n",
    "\n",
    "# Create a Pandas Excel reader\n",
    "xls = pd.ExcelFile(excel_file)\n",
    "\n",
    "# Read data from each sheet into separate DataFrames\n",
    "proms = pd.read_excel(xls, 'proms')\n",
    "description = pd.read_excel(xls, 'description')"
   ]
  },
  {
   "cell_type": "code",
   "execution_count": 31,
   "metadata": {},
   "outputs": [
    {
     "data": {
      "text/plain": [
       "False"
      ]
     },
     "execution_count": 31,
     "metadata": {},
     "output_type": "execute_result"
    }
   ],
   "source": [
    "# Save two dataframes to a dictionary\n",
    "dict = {\n",
    "    'proms': proms.to_dict(orient='records'),\n",
    "    'description': description.to_dict(orient='records')\n",
    "}\n",
    "\n",
    "# Turning dictionary into a JSON string\n",
    "json_string = json.dumps(dict, indent=4)\n",
    "\n",
    "# Rename existing 'dr2/data/content.json' file to 'dr2/data/content_bak.json'\n",
    "import os\n",
    "os.rename('dr2/data/content.json', 'dr2/data/content_bak.json')\n",
    "\n",
    "# Save json_string to a JSON file\n",
    "with open('dr2/data/content.json', 'w') as json_file:\n",
    "    json_file.write(json_string)"
   ]
  },
  {
   "cell_type": "code",
   "execution_count": null,
   "metadata": {},
   "outputs": [],
   "source": []
  }
 ],
 "metadata": {
  "kernelspec": {
   "display_name": "geospatial",
   "language": "python",
   "name": "python3"
  },
  "language_info": {
   "codemirror_mode": {
    "name": "ipython",
    "version": 3
   },
   "file_extension": ".py",
   "mimetype": "text/x-python",
   "name": "python",
   "nbconvert_exporter": "python",
   "pygments_lexer": "ipython3",
   "version": "3.11.4"
  },
  "orig_nbformat": 4
 },
 "nbformat": 4,
 "nbformat_minor": 2
}
